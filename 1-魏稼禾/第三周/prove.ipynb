{
 "cells": [
  {
   "cell_type": "markdown",
   "metadata": {},
   "source": [
    "## 证明中心对称的转换公式  ##\n",
    "原图像大小：$H \\times W$     \n",
    "变换后大小：$H' \\times W'$   \n",
    "易知  \n",
    "缩放比例为 $hs = \\frac{H}{H'}, ws = \\frac{W}{W'}$  \n",
    "原图像中心点坐标为：$(x_c,y_c) = \\left(\\frac{H-1}{2}, \\frac{W-1}{2}\\right)$   \n",
    "变换后中心点坐标为：$(x_c',y_c') = \\left(\\frac{H'-1}{2}, \\frac{W'-1}{2}\\right)$  \n",
    "任意变换后横坐标到原横坐标的变换公式为：  \n",
    "$x = hs\\times\\left( x' - x_c'\\right) + x_c$  \n",
    "$=\\frac{H}{H'}\\times\\left( x' - \\frac{H'-1}{2}\\right)+\\frac{H-1}{2}$  \n",
    "$=hs\\times\\left(x'+0.5\\right)-0.5$  \n",
    "纵坐标同理"
   ]
  }
 ],
 "metadata": {
  "language_info": {
   "name": "python"
  }
 },
 "nbformat": 4,
 "nbformat_minor": 2
}
