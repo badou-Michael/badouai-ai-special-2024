{
 "cells": [
  {
   "cell_type": "markdown",
   "id": "ed237384-2e55-4d53-9ae0-95425f812435",
   "metadata": {
    "editable": true,
    "slideshow": {
     "slide_type": ""
    },
    "tags": []
   },
   "source": [
    "# 1. 图像噪声"
   ]
  },
  {
   "cell_type": "code",
   "execution_count": null,
   "id": "94fcc984-0159-49db-8ef6-592ed1ab2ab6",
   "metadata": {},
   "outputs": [],
   "source": [
    "from transfor"
   ]
  },
  {
   "cell_type": "code",
   "execution_count": null,
   "id": "1375a3e3-d7ee-4740-b42f-80c2f1737cfe",
   "metadata": {},
   "outputs": [],
   "source": [
    "# 2. "
   ]
  }
 ],
 "metadata": {
  "kernelspec": {
   "display_name": "ailearn",
   "language": "python",
   "name": "ailearn"
  },
  "language_info": {
   "codemirror_mode": {
    "name": "ipython",
    "version": 3
   },
   "file_extension": ".py",
   "mimetype": "text/x-python",
   "name": "python",
   "nbconvert_exporter": "python",
   "pygments_lexer": "ipython3",
   "version": "3.9.19"
  }
 },
 "nbformat": 4,
 "nbformat_minor": 5
}
