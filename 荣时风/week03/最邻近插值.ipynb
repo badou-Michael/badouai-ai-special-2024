{
 "cells": [
  {
   "cell_type": "code",
   "execution_count": null,
   "id": "20ef30da-8d46-41b3-b4f0-2e4bb0572ead",
   "metadata": {},
   "outputs": [],
   "source": []
  },
  {
   "cell_type": "code",
   "execution_count": null,
   "id": "935ed0b5-030e-451b-94a7-43310962c7b2",
   "metadata": {},
   "outputs": [],
   "source": [
    "def function(img):\n",
    "    height,width,channels =img.shape\n",
    "    emptyImage=np.zeros((800,800,channels),np.uint8)\n",
    "    sh=800/height\n",
    "    sw=800/width\n",
    "    for i in range(800):\n",
    "        for j in range(800):\n",
    "            x=int(i/sh + 0.5)  #int(),转为整型，使用向下取整。\n",
    "            y=int(j/sw + 0.5)\n",
    "            emptyImage[i,j]=img[x,y]\n",
    "    return emptyImage\n",
    "    \n",
    "# cv2.resize(img, (800,800,c),near/bin)"
   ]
  },
  {
   "cell_type": "code",
   "execution_count": null,
   "id": "96386b77-a366-4460-9028-b531c871abdb",
   "metadata": {},
   "outputs": [],
   "source": [
    "img=cv2.imread(\"lenna.png\")\n",
    "zoom=function(img)\n",
    "print(zoom)\n",
    "print(zoom.shape)\n",
    "cv2.imshow(\"nearest interp\",zoom)\n",
    "cv2.imshow(\"image\",img)\n",
    "cv2.waitKey(0)"
   ]
  }
 ],
 "metadata": {
  "kernelspec": {
   "display_name": "Python 3 (ipykernel)",
   "language": "python",
   "name": "python3"
  },
  "language_info": {
   "codemirror_mode": {
    "name": "ipython",
    "version": 3
   },
   "file_extension": ".py",
   "mimetype": "text/x-python",
   "name": "python",
   "nbconvert_exporter": "python",
   "pygments_lexer": "ipython3",
   "version": "3.11.5"
  }
 },
 "nbformat": 4,
 "nbformat_minor": 5
}
