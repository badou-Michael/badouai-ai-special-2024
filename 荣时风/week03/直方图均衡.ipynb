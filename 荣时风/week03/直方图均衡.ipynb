{
 "cells": [
  {
   "cell_type": "code",
   "execution_count": 1,
   "id": "62d7472d-0f03-4476-9475-29a9674a4caf",
   "metadata": {
    "tags": []
   },
   "outputs": [
    {
     "ename": "SyntaxError",
     "evalue": "invalid syntax (3142161288.py, line 3)",
     "output_type": "error",
     "traceback": [
      "\u001b[1;36m  Cell \u001b[1;32mIn[1], line 3\u001b[1;36m\u001b[0m\n\u001b[1;33m    import matplotlib import pyplot as plt\u001b[0m\n\u001b[1;37m                      ^\u001b[0m\n\u001b[1;31mSyntaxError\u001b[0m\u001b[1;31m:\u001b[0m invalid syntax\n"
     ]
    }
   ],
   "source": [
    "import cv2\n",
    "import numpy as np\n",
    "fro matplotlib import pyplot as plt"
   ]
  },
  {
   "cell_type": "code",
   "execution_count": null,
   "id": "772d978b-a620-4350-8068-3991be8d36e9",
   "metadata": {},
   "outputs": [],
   "source": [
    "# 获取灰度图像\n",
    "img = cv2.imread(\"lenna.png\", 1)\n",
    "gray = cv2.cvtColor(img, cv2.COLOR_BGR2GRAY)\n",
    "#cv2.imshow(\"image_gray\", gray)"
   ]
  },
  {
   "cell_type": "code",
   "execution_count": null,
   "id": "c2117d3a-9b89-47b0-abb6-9c29a4b7e1d1",
   "metadata": {},
   "outputs": [],
   "source": [
    "# 灰度图像直方图均衡化\n",
    "dst = cv2.equalizeHist(gray)\n",
    "\n",
    "# 直方图\n",
    "hist = cv2.calcHist([dst],[0],None,[256],[0,256])"
   ]
  },
  {
   "cell_type": "code",
   "execution_count": null,
   "id": "bbf8efdc-ee1d-4d4a-8de0-fd513f7535c6",
   "metadata": {},
   "outputs": [],
   "source": [
    "plt.figure()\n",
    "plt.hist(dst.ravel(), 256)\n",
    "plt.show()"
   ]
  },
  {
   "cell_type": "code",
   "execution_count": null,
   "id": "01d09b7c-9c27-4904-afc2-9441bc9f7987",
   "metadata": {},
   "outputs": [],
   "source": [
    "cv2.imshow(\"Histogram Equalization\", np.hstack([gray, dst]))\n",
    "cv2.waitKey(0)"
   ]
  }
 ],
 "metadata": {
  "kernelspec": {
   "display_name": "Python 3 (ipykernel)",
   "language": "python",
   "name": "python3"
  },
  "language_info": {
   "codemirror_mode": {
    "name": "ipython",
    "version": 3
   },
   "file_extension": ".py",
   "mimetype": "text/x-python",
   "name": "python",
   "nbconvert_exporter": "python",
   "pygments_lexer": "ipython3",
   "version": "3.11.5"
  }
 },
 "nbformat": 4,
 "nbformat_minor": 5
}
