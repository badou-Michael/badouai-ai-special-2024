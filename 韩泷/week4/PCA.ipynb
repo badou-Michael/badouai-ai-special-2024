{
 "cells": [
  {
   "cell_type": "markdown",
   "metadata": {},
   "source": [
    "##### PCA 手写实现"
   ]
  },
  {
   "cell_type": "code",
   "execution_count": 1,
   "metadata": {},
   "outputs": [],
   "source": [
    "import numpy as np"
   ]
  },
  {
   "cell_type": "code",
   "execution_count": 7,
   "metadata": {},
   "outputs": [],
   "source": [
    "class CPCA(object):\n",
    "    def __init__(self, X, K):\n",
    "        self.X = X  #样本举证\n",
    "        self.K = K  #降维后的维度数\n",
    "        self.centrX = [] #矩阵中心化之后\n",
    "        self.C = [] #样本的协方差矩阵\n",
    "        self.U = [] #降维转换矩阵\n",
    "        self.Z = [] #降维后的数据\n",
    "        \n",
    "        self.centrX = self.center(self.X)\n",
    "        self.C = self.cov(self.centrX)\n",
    "        self.U = self._U()\n",
    "        self.Z = self._Z()\n",
    "    \n",
    "    def center(self, X):\n",
    "        print('原样本矩阵：\\n',self.X)\n",
    "        meanX = np.mean(X, axis=0)\n",
    "        print(\"样本矩阵中心化：\\n\", meanX)\n",
    "        centrx = X-meanX\n",
    "        print(\"样本矩阵中心化之后：\\n\", centrx)\n",
    "        return centrx\n",
    "    \n",
    "    def cov(self, X):\n",
    "        n = X.shape[0]\n",
    "        C = np.dot(X.T,X)/(n-1)\n",
    "        print(\"样本的协方差矩阵：\\n\", C)\n",
    "        return C\n",
    "    \n",
    "    def _U(self):\n",
    "        a,b = np.linalg.eig(self.C) #求解协方差矩阵的特征值和特征向量\n",
    "        print('样本集的协方差矩阵C的特征值:\\n', a)\n",
    "        print('样本集的协方差矩阵C的特征向量:\\n', b)\n",
    "        # 需要特征值降序排列\n",
    "        ind = np.argsort(-1*a)\n",
    "        print('样本集的协方差矩阵C的特征值降序的索引序列:\\n', ind)\n",
    "        UT = [b[:,ind[i]] for i in range(self.K)]\n",
    "        print('样本集的协方差矩阵C的特征向量降序的矩阵:\\n', UT)\n",
    "        U = np.transpose(UT)\n",
    "        \n",
    "        print('%d阶降维转换矩阵U:\\n'%self.K, U)\n",
    "        return U\n",
    "    def _Z(self):\n",
    "        Z = np.dot(self.centrX, self.U)\n",
    "        print('X shape:', np.shape(self.X))\n",
    "        print('U shape:', np.shape(self.U))\n",
    "        print('Z shape:', np.shape(Z))\n",
    "        print('降维后的数据Z:\\n', Z)\n",
    "        return Z\n",
    "        "
   ]
  },
  {
   "cell_type": "code",
   "execution_count": 8,
   "metadata": {},
   "outputs": [
    {
     "name": "stdout",
     "output_type": "stream",
     "text": [
      "样本集(10行3列，10个样例，每个样例3个特征):\n",
      " [[10 15 29]\n",
      " [15 46 13]\n",
      " [23 21 30]\n",
      " [11  9 35]\n",
      " [42 45 11]\n",
      " [ 9 48  5]\n",
      " [11 21 14]\n",
      " [ 8  5 15]\n",
      " [11 12 21]\n",
      " [21 20 25]]\n",
      "原样本矩阵：\n",
      " [[10 15 29]\n",
      " [15 46 13]\n",
      " [23 21 30]\n",
      " [11  9 35]\n",
      " [42 45 11]\n",
      " [ 9 48  5]\n",
      " [11 21 14]\n",
      " [ 8  5 15]\n",
      " [11 12 21]\n",
      " [21 20 25]]\n",
      "样本矩阵中心化：\n",
      " [16.1 24.2 19.8]\n",
      "样本矩阵中心化之后：\n",
      " [[ -6.1  -9.2   9.2]\n",
      " [ -1.1  21.8  -6.8]\n",
      " [  6.9  -3.2  10.2]\n",
      " [ -5.1 -15.2  15.2]\n",
      " [ 25.9  20.8  -8.8]\n",
      " [ -7.1  23.8 -14.8]\n",
      " [ -5.1  -3.2  -5.8]\n",
      " [ -8.1 -19.2  -4.8]\n",
      " [ -5.1 -12.2   1.2]\n",
      " [  4.9  -4.2   5.2]]\n",
      "样本的协方差矩阵：\n",
      " [[ 108.32222222   74.53333333  -10.08888889]\n",
      " [  74.53333333  260.62222222 -106.4       ]\n",
      " [ -10.08888889 -106.4          94.17777778]]\n",
      "样本集的协方差矩阵C的特征值:\n",
      " [335.15738485  95.32771231  32.63712506]\n",
      "样本集的协方差矩阵C的特征向量:\n",
      " [[-0.30253213 -0.87499307 -0.37797014]\n",
      " [-0.86718533  0.08811216  0.49012839]\n",
      " [ 0.39555518 -0.47604975  0.78543792]]\n",
      "样本集的协方差矩阵C的特征值降序的索引序列:\n",
      " [0 1 2]\n",
      "样本集的协方差矩阵C的特征向量降序的矩阵:\n",
      " [array([-0.30253213, -0.86718533,  0.39555518]), array([-0.87499307,  0.08811216, -0.47604975])]\n",
      "2阶降维转换矩阵U:\n",
      " [[-0.30253213 -0.87499307]\n",
      " [-0.86718533  0.08811216]\n",
      " [ 0.39555518 -0.47604975]]\n",
      "X shape: (10, 3)\n",
      "U shape: (3, 2)\n",
      "Z shape: (10, 2)\n",
      "降维后的数据Z:\n",
      " [[ 13.46265879   0.14716812]\n",
      " [-21.26163019   6.12047583]\n",
      " [  4.72218421 -11.17511862]\n",
      " [ 20.73656976  -4.11279645]\n",
      " [-29.35392285 -16.6403498 ]\n",
      " [-24.34524952  15.35505662]\n",
      " [  2.02368689   6.94159433]\n",
      " [ 17.20180383   7.68072922]\n",
      " [ 12.59724119   2.8162366 ]\n",
      " [  4.2166579   -7.13299586]]\n"
     ]
    }
   ],
   "source": [
    "X = np.array([[10, 15, 29],\n",
    "                  [15, 46, 13],\n",
    "                  [23, 21, 30],\n",
    "                  [11, 9,  35],\n",
    "                  [42, 45, 11],\n",
    "                  [9,  48, 5],\n",
    "                  [11, 21, 14],\n",
    "                  [8,  5,  15],\n",
    "                  [11, 12, 21],\n",
    "                  [21, 20, 25]])\n",
    "K = np.shape(X)[1] - 1\n",
    "print('样本集(10行3列，10个样例，每个样例3个特征):\\n', X)\n",
    "pca = CPCA(X,K)"
   ]
  },
  {
   "cell_type": "markdown",
   "metadata": {},
   "source": [
    "##### PCA 简化版"
   ]
  },
  {
   "cell_type": "code",
   "execution_count": 18,
   "metadata": {},
   "outputs": [
    {
     "name": "stdout",
     "output_type": "stream",
     "text": [
      "[[  7.96504337  -4.12166867]\n",
      " [ -0.43650137  -2.07052079]\n",
      " [-13.63653266  -1.86686164]\n",
      " [-22.28361821   2.32219188]\n",
      " [  3.47849303   3.95193502]\n",
      " [ 24.91311585   1.78492421]]\n"
     ]
    }
   ],
   "source": [
    "import numpy as np\n",
    "\n",
    "def PCA(X,k):\n",
    "    # 计算X的均值\n",
    "    mean_X = np.mean(X,axis=0)\n",
    "    X = X - mean_X\n",
    "    # 计算协方差矩阵\n",
    "    con_X = np.dot(X.T,X)/X.shape[0]\n",
    "    # 计算特征值和特征向量\n",
    "    a,b = np.linalg.eig(con_X)\n",
    "    # 按照特征值大小排序\n",
    "    idx = np.argsort(a)[::-1]\n",
    "    # 计算降维矩阵\n",
    "    U= b[:,idx[:k]]\n",
    "    # 降维\n",
    "    X_new = np.dot(X,U)\n",
    "    return X_new\n",
    "\n",
    "X = np.array([[-1,2,66,-1], [-2,6,58,-1], [-3,8,45,-2], [1,9,36,1], [2,10,62,1], [3,5,83,2]])  #导入数据，维度为4\n",
    "newX=PCA(X,2)  #降维为2\n",
    "print(newX)"
   ]
  },
  {
   "cell_type": "markdown",
   "metadata": {},
   "source": [
    "##### PCA SKlearn"
   ]
  },
  {
   "cell_type": "code",
   "execution_count": 16,
   "metadata": {},
   "outputs": [
    {
     "name": "stdout",
     "output_type": "stream",
     "text": [
      "[[  7.96504337  -4.12166867]\n",
      " [ -0.43650137  -2.07052079]\n",
      " [-13.63653266  -1.86686164]\n",
      " [-22.28361821   2.32219188]\n",
      " [  3.47849303   3.95193502]\n",
      " [ 24.91311585   1.78492421]]\n"
     ]
    }
   ],
   "source": [
    "import numpy as np\n",
    "from sklearn.decomposition import PCA\n",
    "\n",
    "X = np.array([[-1,2,66,-1], [-2,6,58,-1], [-3,8,45,-2], [1,9,36,1], [2,10,62,1], [3,5,83,2]]) \n",
    "pca = PCA(n_components=2)\n",
    "pca.fit(X)\n",
    "newX = pca.fit_transform(X)\n",
    "print(newX)"
   ]
  },
  {
   "cell_type": "markdown",
   "metadata": {},
   "source": [
    "#### PCA 鸢尾花"
   ]
  },
  {
   "cell_type": "code",
   "execution_count": 17,
   "metadata": {},
   "outputs": [
    {
     "data": {
      "image/png": "[encoded data removed]",
      "text/plain": [
       "<Figure size 640x480 with 1 Axes>"
      ]
     },
     "metadata": {},
     "output_type": "display_data"
    }
   ],
   "source": [
    "import matplotlib.pyplot as plt\n",
    "import sklearn.decomposition as dp\n",
    "from sklearn.datasets import load_iris\n",
    "\n",
    "# 加载数据集\n",
    "x,y=load_iris(return_X_y=True)\n",
    "pca = dp.PCA(n_components=2)\n",
    "new_X = pca.fit_transform(x)\n",
    "\n",
    "red_x,red_y=[],[]\n",
    "blue_x,blue_y=[],[]\n",
    "green_x,green_y=[],[]\n",
    "for i in range(len(new_X)):\n",
    "    if y[i]==0:\n",
    "        red_x.append(new_X[i][0])\n",
    "        red_y.append(new_X[i][1])\n",
    "    elif y[i]==1:\n",
    "        blue_x.append(new_X[i][0])\n",
    "        blue_y.append(new_X[i][1])\n",
    "    else:\n",
    "        green_x.append(new_X[i][0])\n",
    "        green_y.append(new_X[i][1])\n",
    "plt.scatter(red_x,red_y,c='r',marker='x')\n",
    "plt.scatter(blue_x,blue_y,c='b',marker='D')\n",
    "plt.scatter(green_x,green_y,c='g',marker='.')\n",
    "plt.show()"
   ]
  }
 ],
 "metadata": {
  "kernelspec": {
   "display_name": "deeplearning",
   "language": "python",
   "name": "python3"
  },
  "language_info": {
   "codemirror_mode": {
    "name": "ipython",
    "version": 3
   },
   "file_extension": ".py",
   "mimetype": "text/x-python",
   "name": "python",
   "nbconvert_exporter": "python",
   "pygments_lexer": "ipython3",
   "version": "3.12.1"
  }
 },
 "nbformat": 4,
 "nbformat_minor": 2
}
