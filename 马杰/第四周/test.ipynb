{
 "cells": [
  {
   "cell_type": "code",
   "execution_count": 1,
   "metadata": {},
   "outputs": [],
   "source": [
    "import numpy as np\n",
    "import cv2\n",
    "import random"
   ]
  },
  {
   "cell_type": "markdown",
   "metadata": {},
   "source": [
    "高斯噪声"
   ]
  },
  {
   "cell_type": "code",
   "execution_count": 3,
   "metadata": {},
   "outputs": [
    {
     "data": {
      "text/plain": [
       "-1"
      ]
     },
     "execution_count": 3,
     "metadata": {},
     "output_type": "execute_result"
    }
   ],
   "source": [
    "# def GaussianNoise(img,means,sigma,percetage):\n",
    "#     H,W=img.shape\n",
    "#     NoiseNum = int(percetage*H*W)\n",
    "\n",
    "    \n",
    "#     for _ in range(NoiseNum):\n",
    "#         randX=random.randint(0,H-1)\n",
    "#         randY=random.randint(0,W-1)\n",
    "#         img[randX,randY]+=random.gauss(means,sigma)\n",
    "#         if img[randX,randY]<0:\n",
    "#             img[randX,randY]=0\n",
    "#         elif img[randX,randY]>255:\n",
    "#             img[randX,randY]=255\n",
    "#     return img\n",
    "\n",
    "def GaussianNoise(src, means, sigma, percentage):\n",
    "    NoiseImg = src.copy()\n",
    "    NoiseNum = int(percentage * src.shape[0] * src.shape[1])\n",
    "    \n",
    "    # 生成所有可能的坐标\n",
    "    coordinates = [(x, y) for x in range(src.shape[0]) for y in range(src.shape[1])]\n",
    "    \n",
    "    # 随机选择不重复的坐标\n",
    "    selected_coordinates = random.sample(coordinates, NoiseNum)\n",
    "    \n",
    "    for (randX, randY) in selected_coordinates:\n",
    "        # 在原有像素灰度值上加上随机数\n",
    "        NoiseImg[randX, randY] = NoiseImg[randX, randY] + random.gauss(means, sigma)\n",
    "        # 限制灰度值在0-255范围内\n",
    "        NoiseImg[randX, randY] = np.clip(NoiseImg[randX, randY], 0, 255)\n",
    "    \n",
    "    return NoiseImg\n",
    "        \n",
    "    \n",
    "img = cv2.imread('lenna.png',0)\n",
    "cv2.imshow(\"lenna\",img)\n",
    "\n",
    "img_GaussianNoise = GaussianNoise(img,2,4,0.8)\n",
    "cv2.imshow(\"img_GaussianNoise\",img_GaussianNoise)\n",
    "\n",
    "cv2.waitKey(0)"
   ]
  },
  {
   "cell_type": "markdown",
   "metadata": {},
   "source": [
    "椒盐噪声"
   ]
  },
  {
   "cell_type": "code",
   "execution_count": 4,
   "metadata": {},
   "outputs": [
    {
     "data": {
      "text/plain": [
       "-1"
      ]
     },
     "execution_count": 4,
     "metadata": {},
     "output_type": "execute_result"
    }
   ],
   "source": [
    "def Salt_Pepper_Noise(img,percetage):\n",
    "    H,W=img.shape\n",
    "    NoiseNum = int(percetage*H*W)\n",
    "\n",
    "    for _ in range(NoiseNum):\n",
    "        randX=random.randint(0,H-1)\n",
    "        randY=random.randint(0,W-1)\n",
    "        if random.random()<=0.5:\n",
    "            img[randX,randY]=0\n",
    "        else:\n",
    "            img[randX,randY]=255\n",
    "    return img\n",
    "        \n",
    "    \n",
    "img = cv2.imread('lenna.png',0)\n",
    "cv2.imshow(\"lean\",img)\n",
    "\n",
    "img_Salt_Pepper_Noise = Salt_Pepper_Noise(img,0.8)\n",
    "cv2.imshow(\"img_Salt_Pepper_Noise\",img_Salt_Pepper_Noise)\n",
    "\n",
    "cv2.waitKey(0)"
   ]
  },
  {
   "cell_type": "markdown",
   "metadata": {},
   "source": [
    "PCA"
   ]
  },
  {
   "cell_type": "code",
   "execution_count": 13,
   "metadata": {},
   "outputs": [
    {
     "name": "stdout",
     "output_type": "stream",
     "text": [
      "样本集(10行3列，10个样例，每个样例3个特征):\n",
      " [[10 15 29]\n",
      " [15 46 13]\n",
      " [23 21 30]\n",
      " [11  9 35]\n",
      " [42 45 11]\n",
      " [ 9 48  5]\n",
      " [11 21 14]\n",
      " [ 8  5 15]\n",
      " [11 12 21]\n",
      " [21 20 25]]\n",
      "样本集的特征均值:\n",
      " [16.1 24.2 19.8]\n",
      "样本矩阵X的中心化centrX:\n",
      " [[ -6.1  -9.2   9.2]\n",
      " [ -1.1  21.8  -6.8]\n",
      " [  6.9  -3.2  10.2]\n",
      " [ -5.1 -15.2  15.2]\n",
      " [ 25.9  20.8  -8.8]\n",
      " [ -7.1  23.8 -14.8]\n",
      " [ -5.1  -3.2  -5.8]\n",
      " [ -8.1 -19.2  -4.8]\n",
      " [ -5.1 -12.2   1.2]\n",
      " [  4.9  -4.2   5.2]]\n",
      "样本矩阵X的协方差矩阵C:\n",
      " [[ 108.32222222   74.53333333  -10.08888889]\n",
      " [  74.53333333  260.62222222 -106.4       ]\n",
      " [ -10.08888889 -106.4          94.17777778]]\n",
      "样本集的协方差矩阵C的特征值:\n",
      " [335.15738485  95.32771231  32.63712506]\n",
      "样本集的协方差矩阵C的特征向量:\n",
      " [[-0.30253213 -0.87499307 -0.37797014]\n",
      " [-0.86718533  0.08811216  0.49012839]\n",
      " [ 0.39555518 -0.47604975  0.78543792]]\n",
      "2阶降维转换矩阵U:\n",
      " [[-0.30253213 -0.87499307]\n",
      " [-0.86718533  0.08811216]\n",
      " [ 0.39555518 -0.47604975]]\n",
      "X shape: (10, 3)\n",
      "U shape: (3, 2)\n",
      "Z shape: (10, 2)\n",
      "样本矩阵X的降维矩阵Z:\n",
      " [[ -4.56200104 -21.2336912 ]\n",
      " [-39.28629002 -15.26038349]\n",
      " [-13.30247561 -32.55597794]\n",
      " [  2.71190993 -25.49365577]\n",
      " [-47.37858268 -38.02120912]\n",
      " [-42.36990935  -6.0258027 ]\n",
      " [-16.00097294 -14.43926499]\n",
      " [ -0.822856   -13.7001301 ]\n",
      " [ -5.42741864 -18.56462272]\n",
      " [-13.80800193 -28.51385518]]\n"
     ]
    }
   ],
   "source": [
    "import numpy as np\n",
    "\n",
    "class PCA(object):\n",
    "    def __init__(self,X,k) -> None:\n",
    "        self.X=X\n",
    "        self.k=k\n",
    "        \n",
    "        '''矩阵X的中心化'''\n",
    "        mean = np.array([np.mean(attr) for attr in self.X.T])\n",
    "        print('样本集的特征均值:\\n',mean)\n",
    "        centrX = self.X - mean\n",
    "        print('样本矩阵X的中心化centrX:\\n', centrX)\n",
    "        \n",
    "        '''求样本矩阵X的协方差矩阵C'''\n",
    "        ns = np.shape(centrX)[0]\n",
    "        C = np.dot(centrX.T, centrX)/(ns - 1) # 无偏估计\n",
    "        print('样本矩阵X的协方差矩阵C:\\n', C)\n",
    "        \n",
    "        '''求X的降维转换矩阵U, shape=(n,k), n是X的特征维度总数，k是降维矩阵的特征维度'''\n",
    "        a,b = np.linalg.eig(C)\n",
    "        print('样本集的协方差矩阵C的特征值:\\n', a)\n",
    "        print('样本集的协方差矩阵C的特征向量:\\n', b)\n",
    "        ind = np.argsort(-1*a)\n",
    "        UT = [b[:,ind[i]] for i in range(self.k)]\n",
    "        U = np.transpose(UT)\n",
    "        print('%d阶降维转换矩阵U:\\n'%self.k, U)\n",
    "        \n",
    "        '''按照Z=XU求降维矩阵Z, shape=(m,k), n是样本总数，k是降维矩阵中特征维度总数'''\n",
    "        Z = np.dot(self.X, U)\n",
    "        print('X shape:', np.shape(self.X))\n",
    "        print('U shape:', np.shape(U))\n",
    "        print('Z shape:', np.shape(Z))\n",
    "        print('样本矩阵X的降维矩阵Z:\\n', Z)\n",
    "        # return\n",
    "        \n",
    "        \n",
    "        \n",
    "        \n",
    "X = np.array([[10, 15, 29],\n",
    "            [15, 46, 13],\n",
    "            [23, 21, 30],\n",
    "            [11, 9,  35],\n",
    "            [42, 45, 11],\n",
    "            [9,  48, 5],\n",
    "            [11, 21, 14],\n",
    "            [8,  5,  15],\n",
    "            [11, 12, 21],\n",
    "            [21, 20, 25]])\n",
    "k = np.shape(X)[1] - 1\n",
    "print('样本集(10行3列，10个样例，每个样例3个特征):\\n', X)\n",
    "pca = PCA(X,k)"
   ]
  }
 ],
 "metadata": {
  "kernelspec": {
   "display_name": "pytorch",
   "language": "python",
   "name": "python3"
  },
  "language_info": {
   "codemirror_mode": {
    "name": "ipython",
    "version": 3
   },
   "file_extension": ".py",
   "mimetype": "text/x-python",
   "name": "python",
   "nbconvert_exporter": "python",
   "pygments_lexer": "ipython3",
   "version": "3.9.19"
  }
 },
 "nbformat": 4,
 "nbformat_minor": 2
}
